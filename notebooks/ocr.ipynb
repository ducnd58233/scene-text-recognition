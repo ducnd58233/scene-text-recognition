{
 "cells": [
  {
   "cell_type": "markdown",
   "metadata": {},
   "source": [
    "# 0. Download Dataset"
   ]
  },
  {
   "cell_type": "code",
   "execution_count": 1,
   "metadata": {},
   "outputs": [],
   "source": [
    "import sys\n",
    "sys.path.append('..')\n",
    "from utils.gdrive_downloader import GDriveDownloader\n",
    "from utils.memory_tracker import MemoryTracker, safe_to_device\n",
    "\n",
    "data_dir = './data'"
   ]
  },
  {
   "cell_type": "code",
   "execution_count": 2,
   "metadata": {},
   "outputs": [],
   "source": [
    "gdrive_downloader = GDriveDownloader(cache_dir='./cache')\n",
    "success, message = gdrive_downloader.download_and_extract(\n",
    "    gdrive_url='https://drive.google.com/file/d/1kUy2tuH-kKBlFCNA0a9sqD2TG4uyvBnV/view?usp=sharing',\n",
    "    extract_dir=data_dir,\n",
    "    keep_zip=False,\n",
    ")\n",
    "if success:\n",
    "    print(f'Success: {message}')\n",
    "else:\n",
    "    print(f'Error: {message}')"
   ]
  },
  {
   "cell_type": "code",
   "execution_count": 3,
   "metadata": {},
   "outputs": [],
   "source": [
    "import torch.backends.cudnn as cudnn\n",
    "\n",
    "cudnn.benchmark = False\n",
    "cudnn.deterministic = True\n",
    "cudnn.enabled = False"
   ]
  },
  {
   "cell_type": "code",
   "execution_count": 4,
   "metadata": {},
   "outputs": [
    {
     "name": "stdout",
     "output_type": "stream",
     "text": [
      "Ultralytics 8.3.40 🚀 Python-3.12.7 torch-2.3.0 CUDA:0 (NVIDIA GeForce GTX 1050 Ti, 4032MiB)\n",
      "Setup complete ✅ (12 CPUs, 15.5 GB RAM, 271.7/287.3 GB disk)\n"
     ]
    }
   ],
   "source": [
    "import ultralytics\n",
    "\n",
    "ultralytics.checks()"
   ]
  },
  {
   "cell_type": "markdown",
   "metadata": {},
   "source": [
    "# 1. Load data"
   ]
  },
  {
   "cell_type": "markdown",
   "metadata": {},
   "source": [
    "## Extract from xml"
   ]
  },
  {
   "cell_type": "code",
   "execution_count": 5,
   "metadata": {},
   "outputs": [],
   "source": [
    "import os\n",
    "import xml.etree.ElementTree as ET\n",
    "\n",
    "from typing import List\n",
    "\n",
    "class ImageInfo:\n",
    "    def __init__(self, path, size, labels, bboxes):\n",
    "        self.__path = path\n",
    "        self.__size = size\n",
    "        self.__labels = labels\n",
    "        self.__bboxes = bboxes\n",
    "\n",
    "    def get_path(self):\n",
    "        return self.__path\n",
    "    \n",
    "    def get_size(self):\n",
    "        return self.__size\n",
    "    \n",
    "    def get_labels(self):\n",
    "        return self.__labels\n",
    "    \n",
    "    def get_label(self, idx):\n",
    "        return self.__labels[idx]\n",
    "    \n",
    "    def get_bboxes(self):\n",
    "        return self.__bboxes\n",
    "    \n",
    "    def get_bbox(self, idx):\n",
    "        return self.__bboxes[idx]\n",
    "    \n",
    "    def __repr__(self):\n",
    "        s = 'Image info:\\n'\n",
    "        s += f'\\tPath: {self.get_path()}\\n'\n",
    "        s += f'\\tSize: {self.get_size()}\\n'\n",
    "        s += '\\tBBoxes:\\n' \n",
    "\n",
    "        for i in range(len(self.get_labels())):\n",
    "            s += f'\\t\\tLabel: {self.get_label(i)} - {self.get_bbox(i)}\\n'\n",
    "\n",
    "        return s\n",
    "\n",
    "\n",
    "def extract_data_from_xml(root_dir: str) -> List[ImageInfo]:\n",
    "    xml_path = os.path.join(root_dir, 'words.xml')\n",
    "    tree = ET.parse(xml_path)\n",
    "    root = tree.getroot()\n",
    "\n",
    "    imgs = []\n",
    "\n",
    "    for img in root:\n",
    "        bbs_of_img = []\n",
    "        labels_of_img = []\n",
    "\n",
    "        for bbs in img.findall('taggedRectangles'):\n",
    "            for bb in bbs:\n",
    "                # check tag\n",
    "                if not bb[0].text or not bb[0].text.isalnum():\n",
    "                    continue\n",
    "\n",
    "                bbs_of_img.append(\n",
    "                    [\n",
    "                        float(bb.attrib['x']),\n",
    "                        float(bb.attrib['y']),\n",
    "                        float(bb.attrib['width']),\n",
    "                        float(bb.attrib['height']),\n",
    "                    ]\n",
    "                )\n",
    "                labels_of_img.append(bb[0].text.lower())\n",
    "        \n",
    "        img_path = os.path.join(root_dir, img[0].text)\n",
    "        img_sizes = (int(img[1].attrib['x']), int(img[1].attrib['y']))\n",
    "        img_info = ImageInfo(img_path, img_sizes, labels_of_img, bbs_of_img)\n",
    "        imgs.append(img_info)\n",
    "    \n",
    "    return imgs\n"
   ]
  },
  {
   "cell_type": "code",
   "execution_count": 6,
   "metadata": {},
   "outputs": [
    {
     "data": {
      "text/plain": [
       "Image info:\n",
       "\tPath: data/SceneTrialTrain/apanar_06.08.2002/IMG_1261.JPG\n",
       "\tSize: (1600, 1200)\n",
       "\tBBoxes:\n",
       "\t\tLabel: self - [174.0, 392.0, 274.0, 195.0]\n",
       "\t\tLabel: adhesive - [512.0, 391.0, 679.0, 183.0]\n",
       "\t\tLabel: address - [184.0, 612.0, 622.0, 174.0]\n",
       "\t\tLabel: labels - [863.0, 599.0, 446.0, 187.0]\n",
       "\t\tLabel: 36 - [72.0, 6.0, 95.0, 87.0]\n",
       "\t\tLabel: 89m - [247.0, 2.0, 197.0, 88.0]\n",
       "\t\tLabel: cls - [792.0, 0.0, 115.0, 81.0]\n",
       "\t\tLabel: 250 - [200.0, 848.0, 228.0, 139.0]\n",
       "\t\tLabel: on - [473.0, 878.0, 165.0, 109.0]\n",
       "\t\tLabel: a - [684.0, 878.0, 71.0, 106.0]\n",
       "\t\tLabel: roll - [806.0, 844.0, 218.0, 141.0]"
      ]
     },
     "execution_count": 6,
     "metadata": {},
     "output_type": "execute_result"
    }
   ],
   "source": [
    "dataset_dir = 'data/SceneTrialTrain'\n",
    "imgs = extract_data_from_xml(dataset_dir)\n",
    "imgs[0]"
   ]
  },
  {
   "cell_type": "markdown",
   "metadata": {},
   "source": [
    "## Convert to YOLOv11 format\n",
    "\n",
    "- YOLO format has 3 main dir: `train`, `test`, `val`. Each contains `images` and `labels` dir"
   ]
  },
  {
   "cell_type": "code",
   "execution_count": 7,
   "metadata": {},
   "outputs": [],
   "source": [
    "from typing import List\n",
    "\n",
    "def convert_to_yolo_format(imgs: List[ImageInfo]):\n",
    "    yolo_data = []\n",
    "\n",
    "    for img in imgs:\n",
    "        width, height = img.get_size()\n",
    "        yolo_labels = []\n",
    "\n",
    "        for bbox in img.get_bboxes():\n",
    "            x, y, w, h = bbox\n",
    "\n",
    "            center_x = (x + w / 2) / width\n",
    "            center_y = (y + h / 2) / height\n",
    "            normalized_w = w / width\n",
    "            normalized_h = h / height\n",
    "\n",
    "            # have 1 class so class_id set to 0\n",
    "            class_id = 0\n",
    "\n",
    "            yolo_label = f'{class_id} {center_x} {center_y} {normalized_w} {normalized_h}'\n",
    "            yolo_labels.append(yolo_label)\n",
    "    \n",
    "        yolo_data.append((img.get_path(), yolo_labels))\n",
    "    \n",
    "    return yolo_data"
   ]
  },
  {
   "cell_type": "code",
   "execution_count": 8,
   "metadata": {},
   "outputs": [
    {
     "data": {
      "text/plain": [
       "('data/SceneTrialTrain/apanar_06.08.2002/IMG_1261.JPG',\n",
       " ['0 0.194375 0.40791666666666665 0.17125 0.1625',\n",
       "  '0 0.5321875 0.40208333333333335 0.424375 0.1525',\n",
       "  '0 0.309375 0.5825 0.38875 0.145',\n",
       "  '0 0.67875 0.5770833333333333 0.27875 0.15583333333333332',\n",
       "  '0 0.0746875 0.04125 0.059375 0.0725',\n",
       "  '0 0.2159375 0.03833333333333333 0.123125 0.07333333333333333',\n",
       "  '0 0.5309375 0.03375 0.071875 0.0675',\n",
       "  '0 0.19625 0.7645833333333333 0.1425 0.11583333333333333',\n",
       "  '0 0.3471875 0.7770833333333333 0.103125 0.09083333333333334',\n",
       "  '0 0.4496875 0.7758333333333334 0.044375 0.08833333333333333',\n",
       "  '0 0.571875 0.7620833333333333 0.13625 0.1175'])"
      ]
     },
     "execution_count": 8,
     "metadata": {},
     "output_type": "execute_result"
    }
   ],
   "source": [
    "class_labels = ['text']\n",
    "yolo_data = convert_to_yolo_format(imgs)\n",
    "yolo_data[0]"
   ]
  },
  {
   "cell_type": "code",
   "execution_count": 9,
   "metadata": {},
   "outputs": [],
   "source": [
    "# save data for later training\n",
    "\n",
    "import shutil\n",
    "\n",
    "\n",
    "def save_data(data, save_dir):\n",
    "    os.makedirs(save_dir, exist_ok=True)\n",
    "\n",
    "    os.makedirs(os.path.join(save_dir, 'images'), exist_ok=True)\n",
    "    os.makedirs(os.path.join(save_dir, 'labels'), exist_ok=True)\n",
    "\n",
    "    for image_path, yolo_labels in data:\n",
    "        shutil.copy(\n",
    "            image_path,\n",
    "            os.path.join(save_dir, \"images\"),\n",
    "        )\n",
    "\n",
    "        image_name = os.path.basename(image_path)\n",
    "        image_name = os.path.splitext(image_name)[0]\n",
    "\n",
    "        with open(os.path.join(save_dir, 'labels', f'{image_name}.txt'), 'w') as f:\n",
    "            for label in yolo_labels:\n",
    "                f.write(f'{label}\\n')"
   ]
  },
  {
   "cell_type": "code",
   "execution_count": 10,
   "metadata": {},
   "outputs": [],
   "source": [
    "from sklearn.model_selection import train_test_split\n",
    "\n",
    "\n",
    "seed = 0\n",
    "val_size = 0.2\n",
    "test_size = 0.125\n",
    "is_shuffle = True\n",
    "\n",
    "train_data, test_data = train_test_split(\n",
    "    yolo_data,\n",
    "    test_size=val_size,\n",
    "    random_state=seed,\n",
    "    shuffle=is_shuffle,\n",
    ")\n",
    "\n",
    "test_data, val_data = train_test_split(\n",
    "    test_data,\n",
    "    test_size=test_size,\n",
    "    random_state=seed,\n",
    "    shuffle=is_shuffle,\n",
    ")\n",
    "\n",
    "save_yolo_data_dir =  'datasets/yolo_data'\n",
    "os.makedirs(save_yolo_data_dir, exist_ok=True)\n",
    "save_train_dir = os.path.join(save_yolo_data_dir, 'train')\n",
    "save_val_dir = os.path.join(save_yolo_data_dir, 'val')\n",
    "save_test_dir = os.path.join(save_yolo_data_dir, 'test')\n",
    "\n",
    "save_data(train_data, save_train_dir)\n",
    "save_data(val_data, save_val_dir)\n",
    "save_data(test_data, save_test_dir)"
   ]
  },
  {
   "cell_type": "code",
   "execution_count": 11,
   "metadata": {},
   "outputs": [],
   "source": [
    "import yaml\n",
    "\n",
    "\n",
    "data_yml = {\n",
    "    'path': 'yolo_data',\n",
    "    'train': 'train/images',\n",
    "    'test': 'test/images',\n",
    "    'val': 'val/images',\n",
    "    'nc': 1,\n",
    "    'names': class_labels,\n",
    "}\n",
    "\n",
    "yolo_yaml_path = os.path.join(save_yolo_data_dir, 'data.yml')\n",
    "with open(yolo_yaml_path, 'w') as f:\n",
    "    yaml.dump(data_yml, f, default_flow_style=False)"
   ]
  },
  {
   "cell_type": "markdown",
   "metadata": {},
   "source": [
    "# 2. Model"
   ]
  },
  {
   "cell_type": "code",
   "execution_count": 12,
   "metadata": {},
   "outputs": [
    {
     "name": "stdout",
     "output_type": "stream",
     "text": [
      "New https://pypi.org/project/ultralytics/8.3.58 available 😃 Update with 'pip install -U ultralytics'\n",
      "Ultralytics 8.3.40 🚀 Python-3.12.7 torch-2.3.0 CPU (Intel Core(TM) i7-8750H 2.20GHz)\n",
      "\u001b[34m\u001b[1mengine/trainer: \u001b[0mtask=detect, mode=train, model=yolo11m.pt, data=datasets/yolo_data/data.yml, epochs=100, time=None, patience=20, batch=16, imgsz=640, save=True, save_period=-1, cache=True, device=cpu, workers=2, project=None, name=train22, exist_ok=False, pretrained=True, optimizer=auto, verbose=True, seed=0, deterministic=True, single_cls=False, rect=False, cos_lr=False, close_mosaic=10, resume=False, amp=True, fraction=1.0, profile=False, freeze=None, multi_scale=False, overlap_mask=True, mask_ratio=4, dropout=0.0, val=True, split=val, save_json=False, save_hybrid=False, conf=None, iou=0.7, max_det=300, half=False, dnn=False, plots=True, source=None, vid_stride=1, stream_buffer=False, visualize=False, augment=False, agnostic_nms=False, classes=None, retina_masks=False, embed=None, show=False, save_frames=False, save_txt=False, save_conf=False, save_crop=False, show_labels=True, show_conf=True, show_boxes=True, line_width=None, format=torchscript, keras=False, optimize=False, int8=False, dynamic=False, simplify=True, opset=None, workspace=None, nms=False, lr0=0.01, lrf=0.01, momentum=0.937, weight_decay=0.0005, warmup_epochs=3.0, warmup_momentum=0.8, warmup_bias_lr=0.1, box=7.5, cls=0.5, dfl=1.5, pose=12.0, kobj=1.0, nbs=64, hsv_h=0.015, hsv_s=0.7, hsv_v=0.4, degrees=0.0, translate=0.1, scale=0.5, shear=0.0, perspective=0.0, flipud=0.0, fliplr=0.5, bgr=0.0, mosaic=1.0, mixup=0.0, copy_paste=0.0, copy_paste_mode=flip, auto_augment=randaugment, erasing=0.4, crop_fraction=1.0, cfg=None, tracker=botsort.yaml, save_dir=runs/detect/train22\n",
      "Overriding model.yaml nc=80 with nc=1\n",
      "\n",
      "                   from  n    params  module                                       arguments                     \n",
      "  0                  -1  1      1856  ultralytics.nn.modules.conv.Conv             [3, 64, 3, 2]                 \n",
      "  1                  -1  1     73984  ultralytics.nn.modules.conv.Conv             [64, 128, 3, 2]               \n",
      "  2                  -1  1    111872  ultralytics.nn.modules.block.C3k2            [128, 256, 1, True, 0.25]     \n",
      "  3                  -1  1    590336  ultralytics.nn.modules.conv.Conv             [256, 256, 3, 2]              \n",
      "  4                  -1  1    444928  ultralytics.nn.modules.block.C3k2            [256, 512, 1, True, 0.25]     \n",
      "  5                  -1  1   2360320  ultralytics.nn.modules.conv.Conv             [512, 512, 3, 2]              \n",
      "  6                  -1  1   1380352  ultralytics.nn.modules.block.C3k2            [512, 512, 1, True]           \n",
      "  7                  -1  1   2360320  ultralytics.nn.modules.conv.Conv             [512, 512, 3, 2]              \n",
      "  8                  -1  1   1380352  ultralytics.nn.modules.block.C3k2            [512, 512, 1, True]           \n",
      "  9                  -1  1    656896  ultralytics.nn.modules.block.SPPF            [512, 512, 5]                 \n",
      " 10                  -1  1    990976  ultralytics.nn.modules.block.C2PSA           [512, 512, 1]                 \n",
      " 11                  -1  1         0  torch.nn.modules.upsampling.Upsample         [None, 2, 'nearest']          \n",
      " 12             [-1, 6]  1         0  ultralytics.nn.modules.conv.Concat           [1]                           \n",
      " 13                  -1  1   1642496  ultralytics.nn.modules.block.C3k2            [1024, 512, 1, True]          \n",
      " 14                  -1  1         0  torch.nn.modules.upsampling.Upsample         [None, 2, 'nearest']          \n",
      " 15             [-1, 4]  1         0  ultralytics.nn.modules.conv.Concat           [1]                           \n",
      " 16                  -1  1    542720  ultralytics.nn.modules.block.C3k2            [1024, 256, 1, True]          \n",
      " 17                  -1  1    590336  ultralytics.nn.modules.conv.Conv             [256, 256, 3, 2]              \n",
      " 18            [-1, 13]  1         0  ultralytics.nn.modules.conv.Concat           [1]                           \n",
      " 19                  -1  1   1511424  ultralytics.nn.modules.block.C3k2            [768, 512, 1, True]           \n",
      " 20                  -1  1   2360320  ultralytics.nn.modules.conv.Conv             [512, 512, 3, 2]              \n",
      " 21            [-1, 10]  1         0  ultralytics.nn.modules.conv.Concat           [1]                           \n",
      " 22                  -1  1   1642496  ultralytics.nn.modules.block.C3k2            [1024, 512, 1, True]          \n",
      " 23        [16, 19, 22]  1   1411795  ultralytics.nn.modules.head.Detect           [1, [256, 512, 512]]          \n",
      "YOLO11m summary: 409 layers, 20,053,779 parameters, 20,053,763 gradients\n",
      "\n",
      "Transferred 643/649 items from pretrained weights\n",
      "Freezing layer 'model.23.dfl.conv.weight'\n"
     ]
    },
    {
     "name": "stderr",
     "output_type": "stream",
     "text": [
      "\u001b[34m\u001b[1mtrain: \u001b[0mScanning /home/jiggle/personal/aio2024/hw/projects/scene-text-recognition/notebooks/datasets/yolo_data/train/labels.cache... 200 images, 7 backgrounds, 0 corrupt: 100%|██████████| 200/200 [00:00<?, ?it/s]\n"
     ]
    },
    {
     "name": "stdout",
     "output_type": "stream",
     "text": [
      "WARNING ⚠️ cache='ram' may produce non-deterministic training results. Consider cache='disk' as a deterministic alternative if your disk space allows.\n"
     ]
    },
    {
     "name": "stderr",
     "output_type": "stream",
     "text": [
      "\u001b[34m\u001b[1mtrain: \u001b[0mCaching images (0.2GB RAM): 100%|██████████| 200/200 [00:00<00:00, 445.91it/s]\n",
      "\u001b[34m\u001b[1mval: \u001b[0mScanning /home/jiggle/personal/aio2024/hw/projects/scene-text-recognition/notebooks/datasets/yolo_data/val/labels.cache... 7 images, 0 backgrounds, 0 corrupt: 100%|██████████| 7/7 [00:00<?, ?it/s]\n"
     ]
    },
    {
     "name": "stdout",
     "output_type": "stream",
     "text": [
      "WARNING ⚠️ cache='ram' may produce non-deterministic training results. Consider cache='disk' as a deterministic alternative if your disk space allows.\n"
     ]
    },
    {
     "name": "stderr",
     "output_type": "stream",
     "text": [
      "\u001b[34m\u001b[1mval: \u001b[0mCaching images (0.0GB RAM): 100%|██████████| 7/7 [00:00<00:00, 151.75it/s]\n"
     ]
    },
    {
     "name": "stdout",
     "output_type": "stream",
     "text": [
      "Plotting labels to runs/detect/train22/labels.jpg... \n",
      "\u001b[34m\u001b[1moptimizer:\u001b[0m 'optimizer=auto' found, ignoring 'lr0=0.01' and 'momentum=0.937' and determining best 'optimizer', 'lr0' and 'momentum' automatically... \n",
      "\u001b[34m\u001b[1moptimizer:\u001b[0m AdamW(lr=0.002, momentum=0.9) with parameter groups 106 weight(decay=0.0), 113 weight(decay=0.0005), 112 bias(decay=0.0)\n",
      "Image sizes 640 train, 640 val\n",
      "Using 0 dataloader workers\n",
      "Logging results to \u001b[1mruns/detect/train22\u001b[0m\n",
      "Starting training for 100 epochs...\n",
      "\n",
      "      Epoch    GPU_mem   box_loss   cls_loss   dfl_loss  Instances       Size\n"
     ]
    },
    {
     "name": "stderr",
     "output_type": "stream",
     "text": [
      "  0%|          | 0/13 [00:00<?, ?it/s]"
     ]
    }
   ],
   "source": [
    "from ultralytics import YOLO\n",
    "\n",
    "MemoryTracker.clear_memory()\n",
    "\n",
    "model = YOLO('yolo11m.pt')\n",
    "\n",
    "results = model.train(\n",
    "    data=yolo_yaml_path,\n",
    "    epochs=100,\n",
    "    imgsz=640,\n",
    "    device='cpu',\n",
    "    workers=2,\n",
    "    cache=True,\n",
    "    patience=20,\n",
    "    plots=True\n",
    ")"
   ]
  },
  {
   "cell_type": "code",
   "execution_count": null,
   "metadata": {},
   "outputs": [],
   "source": [
    "from ultralytics import YOLO\n",
    "\n",
    "model_path = './runs/detect/train/weights/best.pt'\n",
    "model = YOLO(model_path)\n",
    "\n",
    "metrics = model.eval()"
   ]
  },
  {
   "cell_type": "code",
   "execution_count": null,
   "metadata": {},
   "outputs": [],
   "source": []
  }
 ],
 "metadata": {
  "kernelspec": {
   "display_name": "aio2024-hw",
   "language": "python",
   "name": "python3"
  },
  "language_info": {
   "codemirror_mode": {
    "name": "ipython",
    "version": 3
   },
   "file_extension": ".py",
   "mimetype": "text/x-python",
   "name": "python",
   "nbconvert_exporter": "python",
   "pygments_lexer": "ipython3",
   "version": "3.12.7"
  }
 },
 "nbformat": 4,
 "nbformat_minor": 2
}
